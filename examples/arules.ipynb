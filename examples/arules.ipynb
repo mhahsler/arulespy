{
 "cells": [
  {
   "attachments": {},
   "cell_type": "markdown",
   "metadata": {},
   "source": [
    "# How to use the R package `arules` from Python using `arulespy`"
   ]
  },
  {
   "attachments": {},
   "cell_type": "markdown",
   "metadata": {},
   "source": [
    "This document is also avaialble as a IPython notebook: https://github.com/mhahsler/arulespy/blob/main/examples/arules.ipynb\n",
    "\n",
    "\n",
    "## Installation \n",
    "\n",
    "The package can be installed using pip.\n",
    "\n",
    "```\n",
    "pip install arulespy\n",
    "```"
   ]
  },
  {
   "attachments": {},
   "cell_type": "markdown",
   "metadata": {},
   "source": [
    "Check that `rpy2` can load the R shared library `R.dll`. I should include a line \n",
    "saying `Loading R library from rpy2: OK` below."
   ]
  },
  {
   "cell_type": "code",
   "execution_count": 51,
   "metadata": {},
   "outputs": [
    {
     "name": "stdout",
     "output_type": "stream",
     "text": [
      "\u001b[1mrpy2 version:\u001b[0m\n",
      "3.5.14\n",
      "\u001b[1mPython version:\u001b[0m\n",
      "3.10.12 (main, Jun 11 2023, 05:26:28) [GCC 11.4.0]\n",
      "\u001b[1mLooking for R's HOME:\u001b[0m\n",
      "    Environment variable R_HOME: /usr/lib/R\n",
      "    Calling `R RHOME`: /usr/lib/R\n",
      "    Environment variable R_LIBS_USER: None\n",
      "\u001b[1mR's value for LD_LIBRARY_PATH:\u001b[0m\n",
      "/usr/lib/R/lib:/usr/lib/x86_64-linux-gnu:/usr/lib/jvm/default-java/lib/server:/usr/lib/R/lib:/usr/lib/x86_64-linux-gnu:/usr/lib/jvm/default-java/lib/server:\n",
      "\u001b[1mR version:\u001b[0m\n",
      "    In the PATH: R version 4.3.1 (2023-06-16) -- \"Beagle Scouts\"\n",
      "    Loading R library from rpy2: OK\n",
      "\u001b[1mAdditional directories to load R packages from:\u001b[0m\n",
      "None\n",
      "\u001b[1mC extension compilation:\u001b[0m\n",
      "  include:\n",
      "  ['/usr/share/R/include']\n",
      "  libraries:\n",
      "  ['R', 'pcre2-8', 'lzma', 'bz2', 'z', 'tirpc', 'rt', 'dl', 'm', 'icuuc', 'icui18n']\n",
      "  library_dirs:\n",
      "  ['/usr/lib/R/lib']\n",
      "  extra_compile_args:\n",
      "  ['-std=c99']\n",
      "  extra_link_args:\n",
      "  ['-Wl,--export-dynamic', '-fopenmp', '-Wl,-Bsymbolic-functions', '-flto=auto', '-ffat-lto-objects', '-flto=auto', '-Wl,-z,relro']\n",
      "Directory for the R shared library:\n",
      "lib\n",
      "\u001b[1mCFFI extension type\u001b[0m\n",
      "  Environment variable: RPY2_CFFI_MODE\n",
      "  Value: CFFI_MODE.ANY\n",
      "  ABI: PRESENT\n",
      "  API: PRESENT\n"
     ]
    }
   ],
   "source": [
    "from rpy2 import situation\n",
    "\n",
    "# This may be necessary for Windows\n",
    "# import os\n",
    "# os.environ['R_HOME'] = situation.r_home_from_registry()\n",
    "\n",
    "for row in situation.iter_info():\n",
    "    print(row)"
   ]
  },
  {
   "attachments": {},
   "cell_type": "markdown",
   "metadata": {},
   "source": [
    "## Basic Usage\n",
    "\n",
    "Import the `arules` module from package `arulespy`."
   ]
  },
  {
   "cell_type": "code",
   "execution_count": 52,
   "metadata": {},
   "outputs": [],
   "source": [
    "from arulespy.arules import Transactions, apriori, parameters, concat"
   ]
  },
  {
   "attachments": {},
   "cell_type": "markdown",
   "metadata": {},
   "source": [
    "### Creating transaction data\n",
    "\n",
    "The data need to be prepared as a Pandas dataframe. Here we have 9 transactions with three items called A, B and C. True means that a transaction contains the item."
   ]
  },
  {
   "cell_type": "code",
   "execution_count": 53,
   "metadata": {},
   "outputs": [
    {
     "data": {
      "text/html": [
       "<div>\n",
       "<style scoped>\n",
       "    .dataframe tbody tr th:only-of-type {\n",
       "        vertical-align: middle;\n",
       "    }\n",
       "\n",
       "    .dataframe tbody tr th {\n",
       "        vertical-align: top;\n",
       "    }\n",
       "\n",
       "    .dataframe thead th {\n",
       "        text-align: right;\n",
       "    }\n",
       "</style>\n",
       "<table border=\"1\" class=\"dataframe\">\n",
       "  <thead>\n",
       "    <tr style=\"text-align: right;\">\n",
       "      <th></th>\n",
       "      <th>A</th>\n",
       "      <th>B</th>\n",
       "      <th>C</th>\n",
       "    </tr>\n",
       "  </thead>\n",
       "  <tbody>\n",
       "    <tr>\n",
       "      <th>0</th>\n",
       "      <td>True</td>\n",
       "      <td>True</td>\n",
       "      <td>True</td>\n",
       "    </tr>\n",
       "    <tr>\n",
       "      <th>1</th>\n",
       "      <td>True</td>\n",
       "      <td>False</td>\n",
       "      <td>False</td>\n",
       "    </tr>\n",
       "    <tr>\n",
       "      <th>2</th>\n",
       "      <td>True</td>\n",
       "      <td>True</td>\n",
       "      <td>True</td>\n",
       "    </tr>\n",
       "    <tr>\n",
       "      <th>3</th>\n",
       "      <td>True</td>\n",
       "      <td>False</td>\n",
       "      <td>False</td>\n",
       "    </tr>\n",
       "    <tr>\n",
       "      <th>4</th>\n",
       "      <td>True</td>\n",
       "      <td>True</td>\n",
       "      <td>True</td>\n",
       "    </tr>\n",
       "    <tr>\n",
       "      <th>5</th>\n",
       "      <td>True</td>\n",
       "      <td>False</td>\n",
       "      <td>True</td>\n",
       "    </tr>\n",
       "    <tr>\n",
       "      <th>6</th>\n",
       "      <td>True</td>\n",
       "      <td>True</td>\n",
       "      <td>True</td>\n",
       "    </tr>\n",
       "    <tr>\n",
       "      <th>7</th>\n",
       "      <td>False</td>\n",
       "      <td>False</td>\n",
       "      <td>True</td>\n",
       "    </tr>\n",
       "    <tr>\n",
       "      <th>8</th>\n",
       "      <td>False</td>\n",
       "      <td>True</td>\n",
       "      <td>True</td>\n",
       "    </tr>\n",
       "    <tr>\n",
       "      <th>9</th>\n",
       "      <td>True</td>\n",
       "      <td>False</td>\n",
       "      <td>True</td>\n",
       "    </tr>\n",
       "  </tbody>\n",
       "</table>\n",
       "</div>"
      ],
      "text/plain": [
       "       A      B      C\n",
       "0   True   True   True\n",
       "1   True  False  False\n",
       "2   True   True   True\n",
       "3   True  False  False\n",
       "4   True   True   True\n",
       "5   True  False   True\n",
       "6   True   True   True\n",
       "7  False  False   True\n",
       "8  False   True   True\n",
       "9   True  False   True"
      ]
     },
     "execution_count": 53,
     "metadata": {},
     "output_type": "execute_result"
    }
   ],
   "source": [
    "import pandas as pd\n",
    "\n",
    "df = pd.DataFrame (\n",
    "    [\n",
    "        [True,True, True],\n",
    "        [True, False,False],\n",
    "        [True, True, True],\n",
    "        [True, False, False],\n",
    "        [True, True, True],\n",
    "        [True, False, True],\n",
    "        [True, True, True],\n",
    "        [False, False, True],\n",
    "        [False, True, True],\n",
    "        [True, False, True],\n",
    "    ],\n",
    "    columns=list ('ABC')) \n",
    "\n",
    "df"
   ]
  },
  {
   "attachments": {},
   "cell_type": "markdown",
   "metadata": {},
   "source": [
    "Convert the pandas dataframe into a sparse transactions object."
   ]
  },
  {
   "cell_type": "code",
   "execution_count": 54,
   "metadata": {},
   "outputs": [
    {
     "name": "stdout",
     "output_type": "stream",
     "text": [
      "transactions in sparse format with\n",
      " 10 transactions (rows) and\n",
      " 3 items (columns)\n",
      "\n"
     ]
    },
    {
     "data": {
      "text/html": [
       "<div>\n",
       "<style scoped>\n",
       "    .dataframe tbody tr th:only-of-type {\n",
       "        vertical-align: middle;\n",
       "    }\n",
       "\n",
       "    .dataframe tbody tr th {\n",
       "        vertical-align: top;\n",
       "    }\n",
       "\n",
       "    .dataframe thead th {\n",
       "        text-align: right;\n",
       "    }\n",
       "</style>\n",
       "<table border=\"1\" class=\"dataframe\">\n",
       "  <thead>\n",
       "    <tr style=\"text-align: right;\">\n",
       "      <th></th>\n",
       "      <th>items</th>\n",
       "      <th>transactionID</th>\n",
       "    </tr>\n",
       "  </thead>\n",
       "  <tbody>\n",
       "    <tr>\n",
       "      <th>1</th>\n",
       "      <td>{A,B,C}</td>\n",
       "      <td>0</td>\n",
       "    </tr>\n",
       "    <tr>\n",
       "      <th>2</th>\n",
       "      <td>{A}</td>\n",
       "      <td>1</td>\n",
       "    </tr>\n",
       "    <tr>\n",
       "      <th>3</th>\n",
       "      <td>{A,B,C}</td>\n",
       "      <td>2</td>\n",
       "    </tr>\n",
       "    <tr>\n",
       "      <th>4</th>\n",
       "      <td>{A}</td>\n",
       "      <td>3</td>\n",
       "    </tr>\n",
       "    <tr>\n",
       "      <th>5</th>\n",
       "      <td>{A,B,C}</td>\n",
       "      <td>4</td>\n",
       "    </tr>\n",
       "    <tr>\n",
       "      <th>6</th>\n",
       "      <td>{A,C}</td>\n",
       "      <td>5</td>\n",
       "    </tr>\n",
       "    <tr>\n",
       "      <th>7</th>\n",
       "      <td>{A,B,C}</td>\n",
       "      <td>6</td>\n",
       "    </tr>\n",
       "    <tr>\n",
       "      <th>8</th>\n",
       "      <td>{C}</td>\n",
       "      <td>7</td>\n",
       "    </tr>\n",
       "    <tr>\n",
       "      <th>9</th>\n",
       "      <td>{B,C}</td>\n",
       "      <td>8</td>\n",
       "    </tr>\n",
       "    <tr>\n",
       "      <th>10</th>\n",
       "      <td>{A,C}</td>\n",
       "      <td>9</td>\n",
       "    </tr>\n",
       "  </tbody>\n",
       "</table>\n",
       "</div>"
      ],
      "text/plain": [
       "      items transactionID\n",
       "1   {A,B,C}             0\n",
       "2       {A}             1\n",
       "3   {A,B,C}             2\n",
       "4       {A}             3\n",
       "5   {A,B,C}             4\n",
       "6     {A,C}             5\n",
       "7   {A,B,C}             6\n",
       "8       {C}             7\n",
       "9     {B,C}             8\n",
       "10    {A,C}             9"
      ]
     },
     "execution_count": 54,
     "metadata": {},
     "output_type": "execute_result"
    }
   ],
   "source": [
    "trans = Transactions.from_df(df)\n",
    "print(trans)\n",
    "\n",
    "trans.as_df()"
   ]
  },
  {
   "cell_type": "code",
   "execution_count": 55,
   "metadata": {},
   "outputs": [
    {
     "data": {
      "text/plain": [
       "['A', 'B', 'C']"
      ]
     },
     "execution_count": 55,
     "metadata": {},
     "output_type": "execute_result"
    }
   ],
   "source": [
    "trans.itemLabels()"
   ]
  },
  {
   "attachments": {},
   "cell_type": "markdown",
   "metadata": {},
   "source": [
    "### Working with transactions\n",
    "\n",
    "We can calculate item frequencies, sample transactions or remove duplicate transactions. All available functions can be found at the end of this document."
   ]
  },
  {
   "cell_type": "code",
   "execution_count": 56,
   "metadata": {},
   "outputs": [
    {
     "data": {
      "text/plain": [
       "[0.8, 0.5, 0.8]"
      ]
     },
     "execution_count": 56,
     "metadata": {},
     "output_type": "execute_result"
    }
   ],
   "source": [
    "trans.itemFrequency(type = 'relative')"
   ]
  },
  {
   "cell_type": "code",
   "execution_count": 57,
   "metadata": {},
   "outputs": [
    {
     "data": {
      "text/html": [
       "<div>\n",
       "<style scoped>\n",
       "    .dataframe tbody tr th:only-of-type {\n",
       "        vertical-align: middle;\n",
       "    }\n",
       "\n",
       "    .dataframe tbody tr th {\n",
       "        vertical-align: top;\n",
       "    }\n",
       "\n",
       "    .dataframe thead th {\n",
       "        text-align: right;\n",
       "    }\n",
       "</style>\n",
       "<table border=\"1\" class=\"dataframe\">\n",
       "  <thead>\n",
       "    <tr style=\"text-align: right;\">\n",
       "      <th></th>\n",
       "      <th>items</th>\n",
       "      <th>transactionID</th>\n",
       "    </tr>\n",
       "  </thead>\n",
       "  <tbody>\n",
       "    <tr>\n",
       "      <th>3</th>\n",
       "      <td>{A,B,C}</td>\n",
       "      <td>2</td>\n",
       "    </tr>\n",
       "    <tr>\n",
       "      <th>6</th>\n",
       "      <td>{A,C}</td>\n",
       "      <td>5</td>\n",
       "    </tr>\n",
       "    <tr>\n",
       "      <th>5</th>\n",
       "      <td>{A,B,C}</td>\n",
       "      <td>4</td>\n",
       "    </tr>\n",
       "  </tbody>\n",
       "</table>\n",
       "</div>"
      ],
      "text/plain": [
       "     items transactionID\n",
       "3  {A,B,C}             2\n",
       "6    {A,C}             5\n",
       "5  {A,B,C}             4"
      ]
     },
     "execution_count": 57,
     "metadata": {},
     "output_type": "execute_result"
    }
   ],
   "source": [
    "trans.sample(3).as_df()"
   ]
  },
  {
   "cell_type": "code",
   "execution_count": 58,
   "metadata": {},
   "outputs": [
    {
     "data": {
      "text/html": [
       "<div>\n",
       "<style scoped>\n",
       "    .dataframe tbody tr th:only-of-type {\n",
       "        vertical-align: middle;\n",
       "    }\n",
       "\n",
       "    .dataframe tbody tr th {\n",
       "        vertical-align: top;\n",
       "    }\n",
       "\n",
       "    .dataframe thead th {\n",
       "        text-align: right;\n",
       "    }\n",
       "</style>\n",
       "<table border=\"1\" class=\"dataframe\">\n",
       "  <thead>\n",
       "    <tr style=\"text-align: right;\">\n",
       "      <th></th>\n",
       "      <th>items</th>\n",
       "      <th>transactionID</th>\n",
       "    </tr>\n",
       "  </thead>\n",
       "  <tbody>\n",
       "    <tr>\n",
       "      <th>1</th>\n",
       "      <td>{A,B,C}</td>\n",
       "      <td>0</td>\n",
       "    </tr>\n",
       "    <tr>\n",
       "      <th>2</th>\n",
       "      <td>{A}</td>\n",
       "      <td>1</td>\n",
       "    </tr>\n",
       "    <tr>\n",
       "      <th>6</th>\n",
       "      <td>{A,C}</td>\n",
       "      <td>5</td>\n",
       "    </tr>\n",
       "    <tr>\n",
       "      <th>8</th>\n",
       "      <td>{C}</td>\n",
       "      <td>7</td>\n",
       "    </tr>\n",
       "    <tr>\n",
       "      <th>9</th>\n",
       "      <td>{B,C}</td>\n",
       "      <td>8</td>\n",
       "    </tr>\n",
       "  </tbody>\n",
       "</table>\n",
       "</div>"
      ],
      "text/plain": [
       "     items transactionID\n",
       "1  {A,B,C}             0\n",
       "2      {A}             1\n",
       "6    {A,C}             5\n",
       "8      {C}             7\n",
       "9    {B,C}             8"
      ]
     },
     "execution_count": 58,
     "metadata": {},
     "output_type": "execute_result"
    }
   ],
   "source": [
    "trans.unique().as_df()"
   ]
  },
  {
   "attachments": {},
   "cell_type": "markdown",
   "metadata": {},
   "source": [
    "Create new data that uses the same encoding as an existing transaction set from a pandas dataframe. Note that the following dataframe\n",
    "has the columns (items) in reverse order which is fixed when the itemencoding in `trans` is used. "
   ]
  },
  {
   "cell_type": "code",
   "execution_count": 59,
   "metadata": {},
   "outputs": [
    {
     "data": {
      "text/html": [
       "<div>\n",
       "<style scoped>\n",
       "    .dataframe tbody tr th:only-of-type {\n",
       "        vertical-align: middle;\n",
       "    }\n",
       "\n",
       "    .dataframe tbody tr th {\n",
       "        vertical-align: top;\n",
       "    }\n",
       "\n",
       "    .dataframe thead th {\n",
       "        text-align: right;\n",
       "    }\n",
       "</style>\n",
       "<table border=\"1\" class=\"dataframe\">\n",
       "  <thead>\n",
       "    <tr style=\"text-align: right;\">\n",
       "      <th></th>\n",
       "      <th>items</th>\n",
       "      <th>transactionID</th>\n",
       "    </tr>\n",
       "  </thead>\n",
       "  <tbody>\n",
       "    <tr>\n",
       "      <th>1</th>\n",
       "      <td>{B,C}</td>\n",
       "      <td>0</td>\n",
       "    </tr>\n",
       "    <tr>\n",
       "      <th>2</th>\n",
       "      <td>{A}</td>\n",
       "      <td>1</td>\n",
       "    </tr>\n",
       "  </tbody>\n",
       "</table>\n",
       "</div>"
      ],
      "text/plain": [
       "   items transactionID\n",
       "1  {B,C}             0\n",
       "2    {A}             1"
      ]
     },
     "execution_count": 59,
     "metadata": {},
     "output_type": "execute_result"
    }
   ],
   "source": [
    "trans2 = Transactions.from_df(pd.DataFrame (\n",
    "    [\n",
    "        [True,True, False],\n",
    "        [False, False, True],\n",
    "    ],\n",
    "    columns=list ('CBA')), trans)\n",
    "\n",
    "trans2.as_df()"
   ]
  },
  {
   "attachments": {},
   "cell_type": "markdown",
   "metadata": {},
   "source": [
    "Create the same transaction, but from a list of lists. Note that the order of the items is fixed to match `trans`."
   ]
  },
  {
   "cell_type": "code",
   "execution_count": 60,
   "metadata": {},
   "outputs": [
    {
     "data": {
      "text/html": [
       "<div>\n",
       "<style scoped>\n",
       "    .dataframe tbody tr th:only-of-type {\n",
       "        vertical-align: middle;\n",
       "    }\n",
       "\n",
       "    .dataframe tbody tr th {\n",
       "        vertical-align: top;\n",
       "    }\n",
       "\n",
       "    .dataframe thead th {\n",
       "        text-align: right;\n",
       "    }\n",
       "</style>\n",
       "<table border=\"1\" class=\"dataframe\">\n",
       "  <thead>\n",
       "    <tr style=\"text-align: right;\">\n",
       "      <th></th>\n",
       "      <th>items</th>\n",
       "    </tr>\n",
       "  </thead>\n",
       "  <tbody>\n",
       "    <tr>\n",
       "      <th>1</th>\n",
       "      <td>{A,B}</td>\n",
       "    </tr>\n",
       "    <tr>\n",
       "      <th>2</th>\n",
       "      <td>{C}</td>\n",
       "    </tr>\n",
       "  </tbody>\n",
       "</table>\n",
       "</div>"
      ],
      "text/plain": [
       "   items\n",
       "1  {A,B}\n",
       "2    {C}"
      ]
     },
     "execution_count": 60,
     "metadata": {},
     "output_type": "execute_result"
    }
   ],
   "source": [
    "trans3 = Transactions.from_list([['B', 'A'],\n",
    "                        ['C']], \n",
    "                        trans)\n",
    "\n",
    "trans3.as_df()"
   ]
  },
  {
   "attachments": {},
   "cell_type": "markdown",
   "metadata": {},
   "source": [
    "Add the new transaction to the existing transactions."
   ]
  },
  {
   "cell_type": "code",
   "execution_count": 61,
   "metadata": {},
   "outputs": [
    {
     "data": {
      "text/html": [
       "<div>\n",
       "<style scoped>\n",
       "    .dataframe tbody tr th:only-of-type {\n",
       "        vertical-align: middle;\n",
       "    }\n",
       "\n",
       "    .dataframe tbody tr th {\n",
       "        vertical-align: top;\n",
       "    }\n",
       "\n",
       "    .dataframe thead th {\n",
       "        text-align: right;\n",
       "    }\n",
       "</style>\n",
       "<table border=\"1\" class=\"dataframe\">\n",
       "  <thead>\n",
       "    <tr style=\"text-align: right;\">\n",
       "      <th></th>\n",
       "      <th>items</th>\n",
       "      <th>transactionID</th>\n",
       "    </tr>\n",
       "  </thead>\n",
       "  <tbody>\n",
       "    <tr>\n",
       "      <th>1</th>\n",
       "      <td>{A,B,C}</td>\n",
       "      <td>0</td>\n",
       "    </tr>\n",
       "    <tr>\n",
       "      <th>2</th>\n",
       "      <td>{A}</td>\n",
       "      <td>1</td>\n",
       "    </tr>\n",
       "    <tr>\n",
       "      <th>3</th>\n",
       "      <td>{A,B,C}</td>\n",
       "      <td>2</td>\n",
       "    </tr>\n",
       "    <tr>\n",
       "      <th>4</th>\n",
       "      <td>{A}</td>\n",
       "      <td>3</td>\n",
       "    </tr>\n",
       "    <tr>\n",
       "      <th>5</th>\n",
       "      <td>{A,B,C}</td>\n",
       "      <td>4</td>\n",
       "    </tr>\n",
       "    <tr>\n",
       "      <th>6</th>\n",
       "      <td>{A,C}</td>\n",
       "      <td>5</td>\n",
       "    </tr>\n",
       "    <tr>\n",
       "      <th>7</th>\n",
       "      <td>{A,B,C}</td>\n",
       "      <td>6</td>\n",
       "    </tr>\n",
       "    <tr>\n",
       "      <th>8</th>\n",
       "      <td>{C}</td>\n",
       "      <td>7</td>\n",
       "    </tr>\n",
       "    <tr>\n",
       "      <th>9</th>\n",
       "      <td>{B,C}</td>\n",
       "      <td>8</td>\n",
       "    </tr>\n",
       "    <tr>\n",
       "      <th>10</th>\n",
       "      <td>{A,C}</td>\n",
       "      <td>9</td>\n",
       "    </tr>\n",
       "    <tr>\n",
       "      <th>11</th>\n",
       "      <td>{B,C}</td>\n",
       "      <td>0</td>\n",
       "    </tr>\n",
       "    <tr>\n",
       "      <th>12</th>\n",
       "      <td>{A}</td>\n",
       "      <td>1</td>\n",
       "    </tr>\n",
       "  </tbody>\n",
       "</table>\n",
       "</div>"
      ],
      "text/plain": [
       "      items transactionID\n",
       "1   {A,B,C}             0\n",
       "2       {A}             1\n",
       "3   {A,B,C}             2\n",
       "4       {A}             3\n",
       "5   {A,B,C}             4\n",
       "6     {A,C}             5\n",
       "7   {A,B,C}             6\n",
       "8       {C}             7\n",
       "9     {B,C}             8\n",
       "10    {A,C}             9\n",
       "11    {B,C}             0\n",
       "12      {A}             1"
      ]
     },
     "execution_count": 61,
     "metadata": {},
     "output_type": "execute_result"
    }
   ],
   "source": [
    "concat([trans, trans2]).as_df()"
   ]
  },
  {
   "attachments": {},
   "cell_type": "markdown",
   "metadata": {},
   "source": [
    "### Converting transactions into Python data strucutres\n",
    "\n",
    "Transactions can be converted into several Python formats inclusing 0-1 matrices, lists of item labels, lists of item idices or a sparse matrix."
   ]
  },
  {
   "cell_type": "code",
   "execution_count": 62,
   "metadata": {},
   "outputs": [
    {
     "data": {
      "text/plain": [
       "array([[1, 1, 1],\n",
       "       [1, 0, 0],\n",
       "       [1, 1, 1],\n",
       "       [1, 0, 0],\n",
       "       [1, 1, 1],\n",
       "       [1, 0, 1],\n",
       "       [1, 1, 1],\n",
       "       [0, 0, 1],\n",
       "       [0, 1, 1],\n",
       "       [1, 0, 1]], dtype=int32)"
      ]
     },
     "execution_count": 62,
     "metadata": {},
     "output_type": "execute_result"
    }
   ],
   "source": [
    "trans.as_matrix()"
   ]
  },
  {
   "cell_type": "code",
   "execution_count": 63,
   "metadata": {},
   "outputs": [
    {
     "data": {
      "text/plain": [
       "[['A', 'B', 'C'],\n",
       " ['A'],\n",
       " ['A', 'B', 'C'],\n",
       " ['A'],\n",
       " ['A', 'B', 'C'],\n",
       " ['A', 'C'],\n",
       " ['A', 'B', 'C'],\n",
       " ['C'],\n",
       " ['B', 'C'],\n",
       " ['A', 'C']]"
      ]
     },
     "execution_count": 63,
     "metadata": {},
     "output_type": "execute_result"
    }
   ],
   "source": [
    "trans.as_list()\n"
   ]
  },
  {
   "cell_type": "code",
   "execution_count": 64,
   "metadata": {},
   "outputs": [
    {
     "data": {
      "text/plain": [
       "[[1, 2, 3],\n",
       " [1],\n",
       " [1, 2, 3],\n",
       " [1],\n",
       " [1, 2, 3],\n",
       " [1, 3],\n",
       " [1, 2, 3],\n",
       " [3],\n",
       " [2, 3],\n",
       " [1, 3]]"
      ]
     },
     "execution_count": 64,
     "metadata": {},
     "output_type": "execute_result"
    }
   ],
   "source": [
    "trans.as_int_list()\n"
   ]
  },
  {
   "cell_type": "code",
   "execution_count": 65,
   "metadata": {},
   "outputs": [
    {
     "data": {
      "text/plain": [
       "<3x10 sparse matrix of type '<class 'numpy.int64'>'\n",
       "\twith 21 stored elements in Compressed Sparse Column format>"
      ]
     },
     "execution_count": 65,
     "metadata": {},
     "output_type": "execute_result"
    }
   ],
   "source": [
    "trans.as_csc_matrix()"
   ]
  },
  {
   "attachments": {},
   "cell_type": "markdown",
   "metadata": {},
   "source": [
    "### Mixing nominal and numeric variables"
   ]
  },
  {
   "attachments": {},
   "cell_type": "markdown",
   "metadata": {},
   "source": [
    "Converting a dataframe with nominal and numeric variables. The nominal variables are converted into the form `variable=value` and\n",
    "numeric variables are first discretized (see `arules.discretizeDF()`)."
   ]
  },
  {
   "cell_type": "code",
   "execution_count": 66,
   "metadata": {},
   "outputs": [
    {
     "data": {
      "text/html": [
       "<div>\n",
       "<style scoped>\n",
       "    .dataframe tbody tr th:only-of-type {\n",
       "        vertical-align: middle;\n",
       "    }\n",
       "\n",
       "    .dataframe tbody tr th {\n",
       "        vertical-align: top;\n",
       "    }\n",
       "\n",
       "    .dataframe thead th {\n",
       "        text-align: right;\n",
       "    }\n",
       "</style>\n",
       "<table border=\"1\" class=\"dataframe\">\n",
       "  <thead>\n",
       "    <tr style=\"text-align: right;\">\n",
       "      <th></th>\n",
       "      <th>items</th>\n",
       "      <th>transactionID</th>\n",
       "    </tr>\n",
       "  </thead>\n",
       "  <tbody>\n",
       "    <tr>\n",
       "      <th>1</th>\n",
       "      <td>{color=red,size=[11.3,16.7),class}</td>\n",
       "      <td>0</td>\n",
       "    </tr>\n",
       "    <tr>\n",
       "      <th>2</th>\n",
       "      <td>{color=blue,size=[9,11.3)}</td>\n",
       "      <td>1</td>\n",
       "    </tr>\n",
       "    <tr>\n",
       "      <th>3</th>\n",
       "      <td>{color=red,size=[16.7,18],class}</td>\n",
       "      <td>2</td>\n",
       "    </tr>\n",
       "    <tr>\n",
       "      <th>4</th>\n",
       "      <td>{color=green,size=[16.7,18]}</td>\n",
       "      <td>3</td>\n",
       "    </tr>\n",
       "    <tr>\n",
       "      <th>5</th>\n",
       "      <td>{color=red,size=[11.3,16.7),class}</td>\n",
       "      <td>4</td>\n",
       "    </tr>\n",
       "    <tr>\n",
       "      <th>6</th>\n",
       "      <td>{color=blue,size=[9,11.3)}</td>\n",
       "      <td>5</td>\n",
       "    </tr>\n",
       "  </tbody>\n",
       "</table>\n",
       "</div>"
      ],
      "text/plain": [
       "                                items transactionID\n",
       "1  {color=red,size=[11.3,16.7),class}             0\n",
       "2          {color=blue,size=[9,11.3)}             1\n",
       "3    {color=red,size=[16.7,18],class}             2\n",
       "4        {color=green,size=[16.7,18]}             3\n",
       "5  {color=red,size=[11.3,16.7),class}             4\n",
       "6          {color=blue,size=[9,11.3)}             5"
      ]
     },
     "execution_count": 66,
     "metadata": {},
     "output_type": "execute_result"
    }
   ],
   "source": [
    "df2 = pd.DataFrame (\n",
    "    [\n",
    "        ['red',  12, True],\n",
    "        ['blue', 10, False],\n",
    "        ['red',  18, True],\n",
    "        ['green',18, False],\n",
    "        ['red',  16, True],\n",
    "        ['blue',  9, False]\n",
    "    ],\n",
    "    columns=list(['color', 'size', 'class'])) \n",
    "\n",
    "trans2 = Transactions.from_df(df2)\n",
    "trans2.as_df()"
   ]
  },
  {
   "attachments": {},
   "cell_type": "markdown",
   "metadata": {},
   "source": [
    "Details on item label creation can be retrieved using `arules.itemInfo()`."
   ]
  },
  {
   "cell_type": "code",
   "execution_count": 67,
   "metadata": {},
   "outputs": [
    {
     "name": "stderr",
     "output_type": "stream",
     "text": [
      "R[write to console]: In addition: \n",
      "R[write to console]: Warning message:\n",
      "\n",
      "R[write to console]: Column(s) 1, 2 not logical or factor. Applying default discretization (see '? discretizeDF'). \n",
      "\n"
     ]
    },
    {
     "data": {
      "text/html": [
       "<div>\n",
       "<style scoped>\n",
       "    .dataframe tbody tr th:only-of-type {\n",
       "        vertical-align: middle;\n",
       "    }\n",
       "\n",
       "    .dataframe tbody tr th {\n",
       "        vertical-align: top;\n",
       "    }\n",
       "\n",
       "    .dataframe thead th {\n",
       "        text-align: right;\n",
       "    }\n",
       "</style>\n",
       "<table border=\"1\" class=\"dataframe\">\n",
       "  <thead>\n",
       "    <tr style=\"text-align: right;\">\n",
       "      <th></th>\n",
       "      <th>labels</th>\n",
       "      <th>variables</th>\n",
       "      <th>levels</th>\n",
       "    </tr>\n",
       "  </thead>\n",
       "  <tbody>\n",
       "    <tr>\n",
       "      <th>1</th>\n",
       "      <td>color=blue</td>\n",
       "      <td>color</td>\n",
       "      <td>blue</td>\n",
       "    </tr>\n",
       "    <tr>\n",
       "      <th>2</th>\n",
       "      <td>color=green</td>\n",
       "      <td>color</td>\n",
       "      <td>green</td>\n",
       "    </tr>\n",
       "    <tr>\n",
       "      <th>3</th>\n",
       "      <td>color=red</td>\n",
       "      <td>color</td>\n",
       "      <td>red</td>\n",
       "    </tr>\n",
       "    <tr>\n",
       "      <th>4</th>\n",
       "      <td>size=[9,11.3)</td>\n",
       "      <td>size</td>\n",
       "      <td>[9,11.3)</td>\n",
       "    </tr>\n",
       "    <tr>\n",
       "      <th>5</th>\n",
       "      <td>size=[11.3,16.7)</td>\n",
       "      <td>size</td>\n",
       "      <td>[11.3,16.7)</td>\n",
       "    </tr>\n",
       "    <tr>\n",
       "      <th>6</th>\n",
       "      <td>size=[16.7,18]</td>\n",
       "      <td>size</td>\n",
       "      <td>[16.7,18]</td>\n",
       "    </tr>\n",
       "    <tr>\n",
       "      <th>7</th>\n",
       "      <td>class</td>\n",
       "      <td>class</td>\n",
       "      <td>TRUE</td>\n",
       "    </tr>\n",
       "  </tbody>\n",
       "</table>\n",
       "</div>"
      ],
      "text/plain": [
       "             labels variables       levels\n",
       "1        color=blue     color         blue\n",
       "2       color=green     color        green\n",
       "3         color=red     color          red\n",
       "4     size=[9,11.3)      size     [9,11.3)\n",
       "5  size=[11.3,16.7)      size  [11.3,16.7)\n",
       "6    size=[16.7,18]      size    [16.7,18]\n",
       "7             class     class         TRUE"
      ]
     },
     "execution_count": 67,
     "metadata": {},
     "output_type": "execute_result"
    }
   ],
   "source": [
    "trans2.itemInfo()"
   ]
  },
  {
   "attachments": {},
   "cell_type": "markdown",
   "metadata": {},
   "source": [
    "## Mine association rules\n",
    "\n",
    "`arules.apriori()` calls the apriori algorithm and converts the results into a Python `arulespy.arules.Rules` object. Parameters for the algorithm\n",
    "are specified as `dict` inside the `arules.parameter()` funcition."
   ]
  },
  {
   "cell_type": "code",
   "execution_count": 68,
   "metadata": {},
   "outputs": [
    {
     "data": {
      "text/html": [
       "<div>\n",
       "<style scoped>\n",
       "    .dataframe tbody tr th:only-of-type {\n",
       "        vertical-align: middle;\n",
       "    }\n",
       "\n",
       "    .dataframe tbody tr th {\n",
       "        vertical-align: top;\n",
       "    }\n",
       "\n",
       "    .dataframe thead th {\n",
       "        text-align: right;\n",
       "    }\n",
       "</style>\n",
       "<table border=\"1\" class=\"dataframe\">\n",
       "  <thead>\n",
       "    <tr style=\"text-align: right;\">\n",
       "      <th></th>\n",
       "      <th>LHS</th>\n",
       "      <th>RHS</th>\n",
       "      <th>support</th>\n",
       "      <th>confidence</th>\n",
       "      <th>coverage</th>\n",
       "      <th>lift</th>\n",
       "      <th>count</th>\n",
       "    </tr>\n",
       "  </thead>\n",
       "  <tbody>\n",
       "    <tr>\n",
       "      <th>1</th>\n",
       "      <td>{}</td>\n",
       "      <td>{A}</td>\n",
       "      <td>0.8</td>\n",
       "      <td>0.8</td>\n",
       "      <td>1.0</td>\n",
       "      <td>1.00</td>\n",
       "      <td>8</td>\n",
       "    </tr>\n",
       "    <tr>\n",
       "      <th>2</th>\n",
       "      <td>{}</td>\n",
       "      <td>{C}</td>\n",
       "      <td>0.8</td>\n",
       "      <td>0.8</td>\n",
       "      <td>1.0</td>\n",
       "      <td>1.00</td>\n",
       "      <td>8</td>\n",
       "    </tr>\n",
       "    <tr>\n",
       "      <th>3</th>\n",
       "      <td>{B}</td>\n",
       "      <td>{A}</td>\n",
       "      <td>0.4</td>\n",
       "      <td>0.8</td>\n",
       "      <td>0.5</td>\n",
       "      <td>1.00</td>\n",
       "      <td>4</td>\n",
       "    </tr>\n",
       "    <tr>\n",
       "      <th>4</th>\n",
       "      <td>{B}</td>\n",
       "      <td>{C}</td>\n",
       "      <td>0.5</td>\n",
       "      <td>1.0</td>\n",
       "      <td>0.5</td>\n",
       "      <td>1.25</td>\n",
       "      <td>5</td>\n",
       "    </tr>\n",
       "    <tr>\n",
       "      <th>5</th>\n",
       "      <td>{A,B}</td>\n",
       "      <td>{C}</td>\n",
       "      <td>0.4</td>\n",
       "      <td>1.0</td>\n",
       "      <td>0.4</td>\n",
       "      <td>1.25</td>\n",
       "      <td>4</td>\n",
       "    </tr>\n",
       "    <tr>\n",
       "      <th>6</th>\n",
       "      <td>{B,C}</td>\n",
       "      <td>{A}</td>\n",
       "      <td>0.4</td>\n",
       "      <td>0.8</td>\n",
       "      <td>0.5</td>\n",
       "      <td>1.00</td>\n",
       "      <td>4</td>\n",
       "    </tr>\n",
       "  </tbody>\n",
       "</table>\n",
       "</div>"
      ],
      "text/plain": [
       "     LHS  RHS  support  confidence  coverage  lift  count\n",
       "1     {}  {A}      0.8         0.8       1.0  1.00      8\n",
       "2     {}  {C}      0.8         0.8       1.0  1.00      8\n",
       "3    {B}  {A}      0.4         0.8       0.5  1.00      4\n",
       "4    {B}  {C}      0.5         1.0       0.5  1.25      5\n",
       "5  {A,B}  {C}      0.4         1.0       0.4  1.25      4\n",
       "6  {B,C}  {A}      0.4         0.8       0.5  1.00      4"
      ]
     },
     "execution_count": 68,
     "metadata": {},
     "output_type": "execute_result"
    }
   ],
   "source": [
    "rules = apriori(trans,\n",
    "                    parameter = parameters({\"supp\": 0.1, \"conf\": 0.8}), \n",
    "                    control = parameters({\"verbose\": False}))  \n",
    "\n",
    "\n",
    "rules.as_df()"
   ]
  },
  {
   "cell_type": "code",
   "execution_count": 69,
   "metadata": {},
   "outputs": [
    {
     "data": {
      "text/html": [
       "<div>\n",
       "<style scoped>\n",
       "    .dataframe tbody tr th:only-of-type {\n",
       "        vertical-align: middle;\n",
       "    }\n",
       "\n",
       "    .dataframe tbody tr th {\n",
       "        vertical-align: top;\n",
       "    }\n",
       "\n",
       "    .dataframe thead th {\n",
       "        text-align: right;\n",
       "    }\n",
       "</style>\n",
       "<table border=\"1\" class=\"dataframe\">\n",
       "  <thead>\n",
       "    <tr style=\"text-align: right;\">\n",
       "      <th></th>\n",
       "      <th>support</th>\n",
       "      <th>confidence</th>\n",
       "      <th>coverage</th>\n",
       "      <th>lift</th>\n",
       "      <th>count</th>\n",
       "    </tr>\n",
       "  </thead>\n",
       "  <tbody>\n",
       "    <tr>\n",
       "      <th>1</th>\n",
       "      <td>0.8</td>\n",
       "      <td>0.8</td>\n",
       "      <td>1.0</td>\n",
       "      <td>1.00</td>\n",
       "      <td>8</td>\n",
       "    </tr>\n",
       "    <tr>\n",
       "      <th>2</th>\n",
       "      <td>0.8</td>\n",
       "      <td>0.8</td>\n",
       "      <td>1.0</td>\n",
       "      <td>1.00</td>\n",
       "      <td>8</td>\n",
       "    </tr>\n",
       "    <tr>\n",
       "      <th>3</th>\n",
       "      <td>0.4</td>\n",
       "      <td>0.8</td>\n",
       "      <td>0.5</td>\n",
       "      <td>1.00</td>\n",
       "      <td>4</td>\n",
       "    </tr>\n",
       "    <tr>\n",
       "      <th>4</th>\n",
       "      <td>0.5</td>\n",
       "      <td>1.0</td>\n",
       "      <td>0.5</td>\n",
       "      <td>1.25</td>\n",
       "      <td>5</td>\n",
       "    </tr>\n",
       "    <tr>\n",
       "      <th>5</th>\n",
       "      <td>0.4</td>\n",
       "      <td>1.0</td>\n",
       "      <td>0.4</td>\n",
       "      <td>1.25</td>\n",
       "      <td>4</td>\n",
       "    </tr>\n",
       "    <tr>\n",
       "      <th>6</th>\n",
       "      <td>0.4</td>\n",
       "      <td>0.8</td>\n",
       "      <td>0.5</td>\n",
       "      <td>1.00</td>\n",
       "      <td>4</td>\n",
       "    </tr>\n",
       "  </tbody>\n",
       "</table>\n",
       "</div>"
      ],
      "text/plain": [
       "   support  confidence  coverage  lift  count\n",
       "1      0.8         0.8       1.0  1.00      8\n",
       "2      0.8         0.8       1.0  1.00      8\n",
       "3      0.4         0.8       0.5  1.00      4\n",
       "4      0.5         1.0       0.5  1.25      5\n",
       "5      0.4         1.0       0.4  1.25      4\n",
       "6      0.4         0.8       0.5  1.00      4"
      ]
     },
     "execution_count": 69,
     "metadata": {},
     "output_type": "execute_result"
    }
   ],
   "source": [
    "rules.quality()"
   ]
  },
  {
   "attachments": {},
   "cell_type": "markdown",
   "metadata": {},
   "source": [
    "Python-style `len()` and slicing is available."
   ]
  },
  {
   "cell_type": "code",
   "execution_count": 70,
   "metadata": {},
   "outputs": [
    {
     "data": {
      "text/plain": [
       "6"
      ]
     },
     "execution_count": 70,
     "metadata": {},
     "output_type": "execute_result"
    }
   ],
   "source": [
    "len(rules)"
   ]
  },
  {
   "cell_type": "code",
   "execution_count": 71,
   "metadata": {},
   "outputs": [
    {
     "data": {
      "text/html": [
       "<div>\n",
       "<style scoped>\n",
       "    .dataframe tbody tr th:only-of-type {\n",
       "        vertical-align: middle;\n",
       "    }\n",
       "\n",
       "    .dataframe tbody tr th {\n",
       "        vertical-align: top;\n",
       "    }\n",
       "\n",
       "    .dataframe thead th {\n",
       "        text-align: right;\n",
       "    }\n",
       "</style>\n",
       "<table border=\"1\" class=\"dataframe\">\n",
       "  <thead>\n",
       "    <tr style=\"text-align: right;\">\n",
       "      <th></th>\n",
       "      <th>LHS</th>\n",
       "      <th>RHS</th>\n",
       "      <th>support</th>\n",
       "      <th>confidence</th>\n",
       "      <th>coverage</th>\n",
       "      <th>lift</th>\n",
       "      <th>count</th>\n",
       "    </tr>\n",
       "  </thead>\n",
       "  <tbody>\n",
       "    <tr>\n",
       "      <th>1</th>\n",
       "      <td>{}</td>\n",
       "      <td>{A}</td>\n",
       "      <td>0.8</td>\n",
       "      <td>0.8</td>\n",
       "      <td>1.0</td>\n",
       "      <td>1.0</td>\n",
       "      <td>8</td>\n",
       "    </tr>\n",
       "    <tr>\n",
       "      <th>2</th>\n",
       "      <td>{}</td>\n",
       "      <td>{C}</td>\n",
       "      <td>0.8</td>\n",
       "      <td>0.8</td>\n",
       "      <td>1.0</td>\n",
       "      <td>1.0</td>\n",
       "      <td>8</td>\n",
       "    </tr>\n",
       "    <tr>\n",
       "      <th>3</th>\n",
       "      <td>{B}</td>\n",
       "      <td>{A}</td>\n",
       "      <td>0.4</td>\n",
       "      <td>0.8</td>\n",
       "      <td>0.5</td>\n",
       "      <td>1.0</td>\n",
       "      <td>4</td>\n",
       "    </tr>\n",
       "  </tbody>\n",
       "</table>\n",
       "</div>"
      ],
      "text/plain": [
       "   LHS  RHS  support  confidence  coverage  lift  count\n",
       "1   {}  {A}      0.8         0.8       1.0   1.0      8\n",
       "2   {}  {C}      0.8         0.8       1.0   1.0      8\n",
       "3  {B}  {A}      0.4         0.8       0.5   1.0      4"
      ]
     },
     "execution_count": 71,
     "metadata": {},
     "output_type": "execute_result"
    }
   ],
   "source": [
    "rules[0:3].as_df()"
   ]
  },
  {
   "cell_type": "code",
   "execution_count": 72,
   "metadata": {},
   "outputs": [
    {
     "data": {
      "text/html": [
       "<div>\n",
       "<style scoped>\n",
       "    .dataframe tbody tr th:only-of-type {\n",
       "        vertical-align: middle;\n",
       "    }\n",
       "\n",
       "    .dataframe tbody tr th {\n",
       "        vertical-align: top;\n",
       "    }\n",
       "\n",
       "    .dataframe thead th {\n",
       "        text-align: right;\n",
       "    }\n",
       "</style>\n",
       "<table border=\"1\" class=\"dataframe\">\n",
       "  <thead>\n",
       "    <tr style=\"text-align: right;\">\n",
       "      <th></th>\n",
       "      <th>LHS</th>\n",
       "      <th>RHS</th>\n",
       "      <th>support</th>\n",
       "      <th>confidence</th>\n",
       "      <th>coverage</th>\n",
       "      <th>lift</th>\n",
       "      <th>count</th>\n",
       "    </tr>\n",
       "  </thead>\n",
       "  <tbody>\n",
       "    <tr>\n",
       "      <th>1</th>\n",
       "      <td>{}</td>\n",
       "      <td>{A}</td>\n",
       "      <td>0.8</td>\n",
       "      <td>0.8</td>\n",
       "      <td>1.0</td>\n",
       "      <td>1.00</td>\n",
       "      <td>8</td>\n",
       "    </tr>\n",
       "    <tr>\n",
       "      <th>3</th>\n",
       "      <td>{B}</td>\n",
       "      <td>{A}</td>\n",
       "      <td>0.4</td>\n",
       "      <td>0.8</td>\n",
       "      <td>0.5</td>\n",
       "      <td>1.00</td>\n",
       "      <td>4</td>\n",
       "    </tr>\n",
       "    <tr>\n",
       "      <th>5</th>\n",
       "      <td>{A,B}</td>\n",
       "      <td>{C}</td>\n",
       "      <td>0.4</td>\n",
       "      <td>1.0</td>\n",
       "      <td>0.4</td>\n",
       "      <td>1.25</td>\n",
       "      <td>4</td>\n",
       "    </tr>\n",
       "  </tbody>\n",
       "</table>\n",
       "</div>"
      ],
      "text/plain": [
       "     LHS  RHS  support  confidence  coverage  lift  count\n",
       "1     {}  {A}      0.8         0.8       1.0  1.00      8\n",
       "3    {B}  {A}      0.4         0.8       0.5  1.00      4\n",
       "5  {A,B}  {C}      0.4         1.0       0.4  1.25      4"
      ]
     },
     "execution_count": 72,
     "metadata": {},
     "output_type": "execute_result"
    }
   ],
   "source": [
    "rules[[True, False, True, False, True, False]].as_df()"
   ]
  },
  {
   "attachments": {},
   "cell_type": "markdown",
   "metadata": {},
   "source": [
    "### Accessing Rules\n",
    "\n",
    "rules can be converted into various Python data structures. "
   ]
  },
  {
   "cell_type": "code",
   "execution_count": 73,
   "metadata": {},
   "outputs": [
    {
     "data": {
      "text/plain": [
       "['{} => {A}',\n",
       " '{} => {C}',\n",
       " '{B} => {A}',\n",
       " '{B} => {C}',\n",
       " '{A,B} => {C}',\n",
       " '{B,C} => {A}']"
      ]
     },
     "execution_count": 73,
     "metadata": {},
     "output_type": "execute_result"
    }
   ],
   "source": [
    "rules.labels()"
   ]
  },
  {
   "cell_type": "code",
   "execution_count": 74,
   "metadata": {},
   "outputs": [
    {
     "data": {
      "text/html": [
       "<div>\n",
       "<style scoped>\n",
       "    .dataframe tbody tr th:only-of-type {\n",
       "        vertical-align: middle;\n",
       "    }\n",
       "\n",
       "    .dataframe tbody tr th {\n",
       "        vertical-align: top;\n",
       "    }\n",
       "\n",
       "    .dataframe thead th {\n",
       "        text-align: right;\n",
       "    }\n",
       "</style>\n",
       "<table border=\"1\" class=\"dataframe\">\n",
       "  <thead>\n",
       "    <tr style=\"text-align: right;\">\n",
       "      <th></th>\n",
       "      <th>items</th>\n",
       "    </tr>\n",
       "  </thead>\n",
       "  <tbody>\n",
       "    <tr>\n",
       "      <th>1</th>\n",
       "      <td>{A}</td>\n",
       "    </tr>\n",
       "    <tr>\n",
       "      <th>2</th>\n",
       "      <td>{C}</td>\n",
       "    </tr>\n",
       "    <tr>\n",
       "      <th>3</th>\n",
       "      <td>{A,B}</td>\n",
       "    </tr>\n",
       "    <tr>\n",
       "      <th>4</th>\n",
       "      <td>{B,C}</td>\n",
       "    </tr>\n",
       "    <tr>\n",
       "      <th>5</th>\n",
       "      <td>{A,B,C}</td>\n",
       "    </tr>\n",
       "    <tr>\n",
       "      <th>6</th>\n",
       "      <td>{A,B,C}</td>\n",
       "    </tr>\n",
       "  </tbody>\n",
       "</table>\n",
       "</div>"
      ],
      "text/plain": [
       "     items\n",
       "1      {A}\n",
       "2      {C}\n",
       "3    {A,B}\n",
       "4    {B,C}\n",
       "5  {A,B,C}\n",
       "6  {A,B,C}"
      ]
     },
     "execution_count": 74,
     "metadata": {},
     "output_type": "execute_result"
    }
   ],
   "source": [
    "rules.items().as_df()"
   ]
  },
  {
   "cell_type": "code",
   "execution_count": 75,
   "metadata": {},
   "outputs": [
    {
     "data": {
      "text/html": [
       "<div>\n",
       "<style scoped>\n",
       "    .dataframe tbody tr th:only-of-type {\n",
       "        vertical-align: middle;\n",
       "    }\n",
       "\n",
       "    .dataframe tbody tr th {\n",
       "        vertical-align: top;\n",
       "    }\n",
       "\n",
       "    .dataframe thead th {\n",
       "        text-align: right;\n",
       "    }\n",
       "</style>\n",
       "<table border=\"1\" class=\"dataframe\">\n",
       "  <thead>\n",
       "    <tr style=\"text-align: right;\">\n",
       "      <th></th>\n",
       "      <th>items</th>\n",
       "    </tr>\n",
       "  </thead>\n",
       "  <tbody>\n",
       "    <tr>\n",
       "      <th>1</th>\n",
       "      <td>{}</td>\n",
       "    </tr>\n",
       "    <tr>\n",
       "      <th>2</th>\n",
       "      <td>{}</td>\n",
       "    </tr>\n",
       "    <tr>\n",
       "      <th>3</th>\n",
       "      <td>{B}</td>\n",
       "    </tr>\n",
       "    <tr>\n",
       "      <th>4</th>\n",
       "      <td>{B}</td>\n",
       "    </tr>\n",
       "    <tr>\n",
       "      <th>5</th>\n",
       "      <td>{A,B}</td>\n",
       "    </tr>\n",
       "    <tr>\n",
       "      <th>6</th>\n",
       "      <td>{B,C}</td>\n",
       "    </tr>\n",
       "  </tbody>\n",
       "</table>\n",
       "</div>"
      ],
      "text/plain": [
       "   items\n",
       "1     {}\n",
       "2     {}\n",
       "3    {B}\n",
       "4    {B}\n",
       "5  {A,B}\n",
       "6  {B,C}"
      ]
     },
     "execution_count": 75,
     "metadata": {},
     "output_type": "execute_result"
    }
   ],
   "source": [
    "rules.lhs().as_df()"
   ]
  },
  {
   "cell_type": "code",
   "execution_count": 76,
   "metadata": {},
   "outputs": [
    {
     "data": {
      "text/plain": [
       "[[], [], ['B'], ['B'], ['A', 'B'], ['B', 'C']]"
      ]
     },
     "execution_count": 76,
     "metadata": {},
     "output_type": "execute_result"
    }
   ],
   "source": [
    "rules.lhs().as_list()"
   ]
  },
  {
   "cell_type": "code",
   "execution_count": 77,
   "metadata": {},
   "outputs": [
    {
     "data": {
      "text/html": [
       "<div>\n",
       "<style scoped>\n",
       "    .dataframe tbody tr th:only-of-type {\n",
       "        vertical-align: middle;\n",
       "    }\n",
       "\n",
       "    .dataframe tbody tr th {\n",
       "        vertical-align: top;\n",
       "    }\n",
       "\n",
       "    .dataframe thead th {\n",
       "        text-align: right;\n",
       "    }\n",
       "</style>\n",
       "<table border=\"1\" class=\"dataframe\">\n",
       "  <thead>\n",
       "    <tr style=\"text-align: right;\">\n",
       "      <th></th>\n",
       "      <th>items</th>\n",
       "    </tr>\n",
       "  </thead>\n",
       "  <tbody>\n",
       "    <tr>\n",
       "      <th>1</th>\n",
       "      <td>{A}</td>\n",
       "    </tr>\n",
       "    <tr>\n",
       "      <th>2</th>\n",
       "      <td>{C}</td>\n",
       "    </tr>\n",
       "    <tr>\n",
       "      <th>3</th>\n",
       "      <td>{A}</td>\n",
       "    </tr>\n",
       "    <tr>\n",
       "      <th>4</th>\n",
       "      <td>{C}</td>\n",
       "    </tr>\n",
       "    <tr>\n",
       "      <th>5</th>\n",
       "      <td>{C}</td>\n",
       "    </tr>\n",
       "    <tr>\n",
       "      <th>6</th>\n",
       "      <td>{A}</td>\n",
       "    </tr>\n",
       "  </tbody>\n",
       "</table>\n",
       "</div>"
      ],
      "text/plain": [
       "  items\n",
       "1   {A}\n",
       "2   {C}\n",
       "3   {A}\n",
       "4   {C}\n",
       "5   {C}\n",
       "6   {A}"
      ]
     },
     "execution_count": 77,
     "metadata": {},
     "output_type": "execute_result"
    }
   ],
   "source": [
    "rules.rhs().as_df()"
   ]
  },
  {
   "attachments": {},
   "cell_type": "markdown",
   "metadata": {},
   "source": [
    "The LHS and RHS of rules are of type `itemMatrix` in the same way are `transactions` are. Therefore, all conversions (to lists, sparce matrices, etc.) are also availabe.  "
   ]
  },
  {
   "cell_type": "code",
   "execution_count": 78,
   "metadata": {},
   "outputs": [
    {
     "data": {
      "text/html": [
       "<div>\n",
       "<style scoped>\n",
       "    .dataframe tbody tr th:only-of-type {\n",
       "        vertical-align: middle;\n",
       "    }\n",
       "\n",
       "    .dataframe tbody tr th {\n",
       "        vertical-align: top;\n",
       "    }\n",
       "\n",
       "    .dataframe thead th {\n",
       "        text-align: right;\n",
       "    }\n",
       "</style>\n",
       "<table border=\"1\" class=\"dataframe\">\n",
       "  <thead>\n",
       "    <tr style=\"text-align: right;\">\n",
       "      <th></th>\n",
       "      <th>LHS</th>\n",
       "      <th>RHS</th>\n",
       "      <th>support</th>\n",
       "      <th>confidence</th>\n",
       "      <th>coverage</th>\n",
       "      <th>lift</th>\n",
       "      <th>count</th>\n",
       "    </tr>\n",
       "  </thead>\n",
       "  <tbody>\n",
       "    <tr>\n",
       "      <th>4</th>\n",
       "      <td>{B}</td>\n",
       "      <td>{C}</td>\n",
       "      <td>0.5</td>\n",
       "      <td>1.0</td>\n",
       "      <td>0.5</td>\n",
       "      <td>1.25</td>\n",
       "      <td>5</td>\n",
       "    </tr>\n",
       "    <tr>\n",
       "      <th>5</th>\n",
       "      <td>{A,B}</td>\n",
       "      <td>{C}</td>\n",
       "      <td>0.4</td>\n",
       "      <td>1.0</td>\n",
       "      <td>0.4</td>\n",
       "      <td>1.25</td>\n",
       "      <td>4</td>\n",
       "    </tr>\n",
       "    <tr>\n",
       "      <th>1</th>\n",
       "      <td>{}</td>\n",
       "      <td>{A}</td>\n",
       "      <td>0.8</td>\n",
       "      <td>0.8</td>\n",
       "      <td>1.0</td>\n",
       "      <td>1.00</td>\n",
       "      <td>8</td>\n",
       "    </tr>\n",
       "    <tr>\n",
       "      <th>2</th>\n",
       "      <td>{}</td>\n",
       "      <td>{C}</td>\n",
       "      <td>0.8</td>\n",
       "      <td>0.8</td>\n",
       "      <td>1.0</td>\n",
       "      <td>1.00</td>\n",
       "      <td>8</td>\n",
       "    </tr>\n",
       "    <tr>\n",
       "      <th>3</th>\n",
       "      <td>{B}</td>\n",
       "      <td>{A}</td>\n",
       "      <td>0.4</td>\n",
       "      <td>0.8</td>\n",
       "      <td>0.5</td>\n",
       "      <td>1.00</td>\n",
       "      <td>4</td>\n",
       "    </tr>\n",
       "    <tr>\n",
       "      <th>6</th>\n",
       "      <td>{B,C}</td>\n",
       "      <td>{A}</td>\n",
       "      <td>0.4</td>\n",
       "      <td>0.8</td>\n",
       "      <td>0.5</td>\n",
       "      <td>1.00</td>\n",
       "      <td>4</td>\n",
       "    </tr>\n",
       "  </tbody>\n",
       "</table>\n",
       "</div>"
      ],
      "text/plain": [
       "     LHS  RHS  support  confidence  coverage  lift  count\n",
       "4    {B}  {C}      0.5         1.0       0.5  1.25      5\n",
       "5  {A,B}  {C}      0.4         1.0       0.4  1.25      4\n",
       "1     {}  {A}      0.8         0.8       1.0  1.00      8\n",
       "2     {}  {C}      0.8         0.8       1.0  1.00      8\n",
       "3    {B}  {A}      0.4         0.8       0.5  1.00      4\n",
       "6  {B,C}  {A}      0.4         0.8       0.5  1.00      4"
      ]
     },
     "execution_count": 78,
     "metadata": {},
     "output_type": "execute_result"
    }
   ],
   "source": [
    "rules.sort(by = 'lift').as_df()"
   ]
  },
  {
   "attachments": {},
   "cell_type": "markdown",
   "metadata": {},
   "source": [
    "### Work With Interest Measures\n",
    "\n",
    "Interest measures are stored as the quality attribute in rules and itemsets."
   ]
  },
  {
   "cell_type": "code",
   "execution_count": 79,
   "metadata": {},
   "outputs": [
    {
     "data": {
      "text/html": [
       "<div>\n",
       "<style scoped>\n",
       "    .dataframe tbody tr th:only-of-type {\n",
       "        vertical-align: middle;\n",
       "    }\n",
       "\n",
       "    .dataframe tbody tr th {\n",
       "        vertical-align: top;\n",
       "    }\n",
       "\n",
       "    .dataframe thead th {\n",
       "        text-align: right;\n",
       "    }\n",
       "</style>\n",
       "<table border=\"1\" class=\"dataframe\">\n",
       "  <thead>\n",
       "    <tr style=\"text-align: right;\">\n",
       "      <th></th>\n",
       "      <th>support</th>\n",
       "      <th>confidence</th>\n",
       "      <th>coverage</th>\n",
       "      <th>lift</th>\n",
       "      <th>count</th>\n",
       "    </tr>\n",
       "  </thead>\n",
       "  <tbody>\n",
       "    <tr>\n",
       "      <th>1</th>\n",
       "      <td>0.8</td>\n",
       "      <td>0.8</td>\n",
       "      <td>1.0</td>\n",
       "      <td>1.00</td>\n",
       "      <td>8</td>\n",
       "    </tr>\n",
       "    <tr>\n",
       "      <th>2</th>\n",
       "      <td>0.8</td>\n",
       "      <td>0.8</td>\n",
       "      <td>1.0</td>\n",
       "      <td>1.00</td>\n",
       "      <td>8</td>\n",
       "    </tr>\n",
       "    <tr>\n",
       "      <th>3</th>\n",
       "      <td>0.4</td>\n",
       "      <td>0.8</td>\n",
       "      <td>0.5</td>\n",
       "      <td>1.00</td>\n",
       "      <td>4</td>\n",
       "    </tr>\n",
       "    <tr>\n",
       "      <th>4</th>\n",
       "      <td>0.5</td>\n",
       "      <td>1.0</td>\n",
       "      <td>0.5</td>\n",
       "      <td>1.25</td>\n",
       "      <td>5</td>\n",
       "    </tr>\n",
       "    <tr>\n",
       "      <th>5</th>\n",
       "      <td>0.4</td>\n",
       "      <td>1.0</td>\n",
       "      <td>0.4</td>\n",
       "      <td>1.25</td>\n",
       "      <td>4</td>\n",
       "    </tr>\n",
       "    <tr>\n",
       "      <th>6</th>\n",
       "      <td>0.4</td>\n",
       "      <td>0.8</td>\n",
       "      <td>0.5</td>\n",
       "      <td>1.00</td>\n",
       "      <td>4</td>\n",
       "    </tr>\n",
       "  </tbody>\n",
       "</table>\n",
       "</div>"
      ],
      "text/plain": [
       "   support  confidence  coverage  lift  count\n",
       "1      0.8         0.8       1.0  1.00      8\n",
       "2      0.8         0.8       1.0  1.00      8\n",
       "3      0.4         0.8       0.5  1.00      4\n",
       "4      0.5         1.0       0.5  1.25      5\n",
       "5      0.4         1.0       0.4  1.25      4\n",
       "6      0.4         0.8       0.5  1.00      4"
      ]
     },
     "execution_count": 79,
     "metadata": {},
     "output_type": "execute_result"
    }
   ],
   "source": [
    "rules.quality()"
   ]
  },
  {
   "attachments": {},
   "cell_type": "markdown",
   "metadata": {},
   "source": [
    "Additional interest measures can be calculated with `interestMeasure()` and added to rules or itemsets using `addQuality()`. See all [available meassures](https://mhahsler.github.io/arules/docs/measures). To calculate some measures, transactions need to\n",
    "be specified."
   ]
  },
  {
   "cell_type": "code",
   "execution_count": 80,
   "metadata": {},
   "outputs": [
    {
     "data": {
      "text/html": [
       "<div>\n",
       "<style scoped>\n",
       "    .dataframe tbody tr th:only-of-type {\n",
       "        vertical-align: middle;\n",
       "    }\n",
       "\n",
       "    .dataframe tbody tr th {\n",
       "        vertical-align: top;\n",
       "    }\n",
       "\n",
       "    .dataframe thead th {\n",
       "        text-align: right;\n",
       "    }\n",
       "</style>\n",
       "<table border=\"1\" class=\"dataframe\">\n",
       "  <thead>\n",
       "    <tr style=\"text-align: right;\">\n",
       "      <th></th>\n",
       "      <th>phi</th>\n",
       "      <th>support</th>\n",
       "    </tr>\n",
       "  </thead>\n",
       "  <tbody>\n",
       "    <tr>\n",
       "      <th>1</th>\n",
       "      <td>NaN</td>\n",
       "      <td>0.8</td>\n",
       "    </tr>\n",
       "    <tr>\n",
       "      <th>2</th>\n",
       "      <td>NaN</td>\n",
       "      <td>0.8</td>\n",
       "    </tr>\n",
       "    <tr>\n",
       "      <th>3</th>\n",
       "      <td>0.000000</td>\n",
       "      <td>0.4</td>\n",
       "    </tr>\n",
       "    <tr>\n",
       "      <th>4</th>\n",
       "      <td>0.500000</td>\n",
       "      <td>0.5</td>\n",
       "    </tr>\n",
       "    <tr>\n",
       "      <th>5</th>\n",
       "      <td>0.408248</td>\n",
       "      <td>0.4</td>\n",
       "    </tr>\n",
       "    <tr>\n",
       "      <th>6</th>\n",
       "      <td>0.000000</td>\n",
       "      <td>0.4</td>\n",
       "    </tr>\n",
       "  </tbody>\n",
       "</table>\n",
       "</div>"
      ],
      "text/plain": [
       "        phi  support\n",
       "1       NaN      0.8\n",
       "2       NaN      0.8\n",
       "3  0.000000      0.4\n",
       "4  0.500000      0.5\n",
       "5  0.408248      0.4\n",
       "6  0.000000      0.4"
      ]
     },
     "execution_count": 80,
     "metadata": {},
     "output_type": "execute_result"
    }
   ],
   "source": [
    "im = rules.interestMeasure([\"phi\", 'support'])\n",
    "im"
   ]
  },
  {
   "cell_type": "code",
   "execution_count": 81,
   "metadata": {},
   "outputs": [
    {
     "data": {
      "text/html": [
       "<div>\n",
       "<style scoped>\n",
       "    .dataframe tbody tr th:only-of-type {\n",
       "        vertical-align: middle;\n",
       "    }\n",
       "\n",
       "    .dataframe tbody tr th {\n",
       "        vertical-align: top;\n",
       "    }\n",
       "\n",
       "    .dataframe thead th {\n",
       "        text-align: right;\n",
       "    }\n",
       "</style>\n",
       "<table border=\"1\" class=\"dataframe\">\n",
       "  <thead>\n",
       "    <tr style=\"text-align: right;\">\n",
       "      <th></th>\n",
       "      <th>LHS</th>\n",
       "      <th>RHS</th>\n",
       "      <th>support</th>\n",
       "      <th>confidence</th>\n",
       "      <th>coverage</th>\n",
       "      <th>lift</th>\n",
       "      <th>count</th>\n",
       "      <th>phi</th>\n",
       "    </tr>\n",
       "  </thead>\n",
       "  <tbody>\n",
       "    <tr>\n",
       "      <th>1</th>\n",
       "      <td>{}</td>\n",
       "      <td>{A}</td>\n",
       "      <td>0.8</td>\n",
       "      <td>0.8</td>\n",
       "      <td>1.0</td>\n",
       "      <td>1.00</td>\n",
       "      <td>8</td>\n",
       "      <td>NaN</td>\n",
       "    </tr>\n",
       "    <tr>\n",
       "      <th>2</th>\n",
       "      <td>{}</td>\n",
       "      <td>{C}</td>\n",
       "      <td>0.8</td>\n",
       "      <td>0.8</td>\n",
       "      <td>1.0</td>\n",
       "      <td>1.00</td>\n",
       "      <td>8</td>\n",
       "      <td>NaN</td>\n",
       "    </tr>\n",
       "    <tr>\n",
       "      <th>3</th>\n",
       "      <td>{B}</td>\n",
       "      <td>{A}</td>\n",
       "      <td>0.4</td>\n",
       "      <td>0.8</td>\n",
       "      <td>0.5</td>\n",
       "      <td>1.00</td>\n",
       "      <td>4</td>\n",
       "      <td>0.000000</td>\n",
       "    </tr>\n",
       "    <tr>\n",
       "      <th>4</th>\n",
       "      <td>{B}</td>\n",
       "      <td>{C}</td>\n",
       "      <td>0.5</td>\n",
       "      <td>1.0</td>\n",
       "      <td>0.5</td>\n",
       "      <td>1.25</td>\n",
       "      <td>5</td>\n",
       "      <td>0.500000</td>\n",
       "    </tr>\n",
       "    <tr>\n",
       "      <th>5</th>\n",
       "      <td>{A,B}</td>\n",
       "      <td>{C}</td>\n",
       "      <td>0.4</td>\n",
       "      <td>1.0</td>\n",
       "      <td>0.4</td>\n",
       "      <td>1.25</td>\n",
       "      <td>4</td>\n",
       "      <td>0.408248</td>\n",
       "    </tr>\n",
       "    <tr>\n",
       "      <th>6</th>\n",
       "      <td>{B,C}</td>\n",
       "      <td>{A}</td>\n",
       "      <td>0.4</td>\n",
       "      <td>0.8</td>\n",
       "      <td>0.5</td>\n",
       "      <td>1.00</td>\n",
       "      <td>4</td>\n",
       "      <td>0.000000</td>\n",
       "    </tr>\n",
       "  </tbody>\n",
       "</table>\n",
       "</div>"
      ],
      "text/plain": [
       "     LHS  RHS  support  confidence  coverage  lift  count       phi\n",
       "1     {}  {A}      0.8         0.8       1.0  1.00      8       NaN\n",
       "2     {}  {C}      0.8         0.8       1.0  1.00      8       NaN\n",
       "3    {B}  {A}      0.4         0.8       0.5  1.00      4  0.000000\n",
       "4    {B}  {C}      0.5         1.0       0.5  1.25      5  0.500000\n",
       "5  {A,B}  {C}      0.4         1.0       0.4  1.25      4  0.408248\n",
       "6  {B,C}  {A}      0.4         0.8       0.5  1.00      4  0.000000"
      ]
     },
     "execution_count": 81,
     "metadata": {},
     "output_type": "execute_result"
    }
   ],
   "source": [
    "rules.addQuality(im)\n",
    "rules.as_df()"
   ]
  },
  {
   "attachments": {},
   "cell_type": "markdown",
   "metadata": {},
   "source": [
    "### Filter Redundant Rules"
   ]
  },
  {
   "cell_type": "code",
   "execution_count": 82,
   "metadata": {},
   "outputs": [
    {
     "data": {
      "text/html": [
       "<div>\n",
       "<style scoped>\n",
       "    .dataframe tbody tr th:only-of-type {\n",
       "        vertical-align: middle;\n",
       "    }\n",
       "\n",
       "    .dataframe tbody tr th {\n",
       "        vertical-align: top;\n",
       "    }\n",
       "\n",
       "    .dataframe thead th {\n",
       "        text-align: right;\n",
       "    }\n",
       "</style>\n",
       "<table border=\"1\" class=\"dataframe\">\n",
       "  <thead>\n",
       "    <tr style=\"text-align: right;\">\n",
       "      <th></th>\n",
       "      <th>LHS</th>\n",
       "      <th>RHS</th>\n",
       "      <th>support</th>\n",
       "      <th>confidence</th>\n",
       "      <th>coverage</th>\n",
       "      <th>lift</th>\n",
       "      <th>count</th>\n",
       "      <th>phi</th>\n",
       "    </tr>\n",
       "  </thead>\n",
       "  <tbody>\n",
       "    <tr>\n",
       "      <th>1</th>\n",
       "      <td>{}</td>\n",
       "      <td>{A}</td>\n",
       "      <td>0.8</td>\n",
       "      <td>0.8</td>\n",
       "      <td>1.0</td>\n",
       "      <td>1.00</td>\n",
       "      <td>8</td>\n",
       "      <td>NaN</td>\n",
       "    </tr>\n",
       "    <tr>\n",
       "      <th>2</th>\n",
       "      <td>{}</td>\n",
       "      <td>{C}</td>\n",
       "      <td>0.8</td>\n",
       "      <td>0.8</td>\n",
       "      <td>1.0</td>\n",
       "      <td>1.00</td>\n",
       "      <td>8</td>\n",
       "      <td>NaN</td>\n",
       "    </tr>\n",
       "    <tr>\n",
       "      <th>4</th>\n",
       "      <td>{B}</td>\n",
       "      <td>{C}</td>\n",
       "      <td>0.5</td>\n",
       "      <td>1.0</td>\n",
       "      <td>0.5</td>\n",
       "      <td>1.25</td>\n",
       "      <td>5</td>\n",
       "      <td>0.5</td>\n",
       "    </tr>\n",
       "  </tbody>\n",
       "</table>\n",
       "</div>"
      ],
      "text/plain": [
       "   LHS  RHS  support  confidence  coverage  lift  count  phi\n",
       "1   {}  {A}      0.8         0.8       1.0  1.00      8  NaN\n",
       "2   {}  {C}      0.8         0.8       1.0  1.00      8  NaN\n",
       "4  {B}  {C}      0.5         1.0       0.5  1.25      5  0.5"
      ]
     },
     "execution_count": 82,
     "metadata": {},
     "output_type": "execute_result"
    }
   ],
   "source": [
    "rules[[not x for x in rules.is_redundant()]].as_df()"
   ]
  },
  {
   "cell_type": "code",
   "execution_count": 83,
   "metadata": {},
   "outputs": [
    {
     "data": {
      "text/plain": [
       "[False, False, True, False, True, True]"
      ]
     },
     "execution_count": 83,
     "metadata": {},
     "output_type": "execute_result"
    }
   ],
   "source": [
    "rules.is_redundant()\n"
   ]
  },
  {
   "attachments": {},
   "cell_type": "markdown",
   "metadata": {},
   "source": [
    "Find maximal rules."
   ]
  },
  {
   "cell_type": "code",
   "execution_count": 84,
   "metadata": {},
   "outputs": [
    {
     "data": {
      "text/plain": [
       "[False, False, False, False, True, True]"
      ]
     },
     "execution_count": 84,
     "metadata": {},
     "output_type": "execute_result"
    }
   ],
   "source": [
    "rules.is_maximal()"
   ]
  },
  {
   "attachments": {},
   "cell_type": "markdown",
   "metadata": {},
   "source": [
    "## Create Rules Objects\n",
    "\n",
    "To import rules from other tools or to create rules manually, rules for `arules` can be created from lists \n",
    "of sets of items. The item labels (i.e., the sparse representation) is\n",
    "taken from the transactions `trans`.\n",
    "\n",
    "The LHS and RHS of rules are of tpye `itemMatrix` and can be created by conversion form pandas data fames of lists of lists."
   ]
  },
  {
   "cell_type": "code",
   "execution_count": 85,
   "metadata": {},
   "outputs": [
    {
     "data": {
      "text/html": [
       "<div>\n",
       "<style scoped>\n",
       "    .dataframe tbody tr th:only-of-type {\n",
       "        vertical-align: middle;\n",
       "    }\n",
       "\n",
       "    .dataframe tbody tr th {\n",
       "        vertical-align: top;\n",
       "    }\n",
       "\n",
       "    .dataframe thead th {\n",
       "        text-align: right;\n",
       "    }\n",
       "</style>\n",
       "<table border=\"1\" class=\"dataframe\">\n",
       "  <thead>\n",
       "    <tr style=\"text-align: right;\">\n",
       "      <th></th>\n",
       "      <th>LHS</th>\n",
       "      <th>RHS</th>\n",
       "    </tr>\n",
       "  </thead>\n",
       "  <tbody>\n",
       "    <tr>\n",
       "      <th>1</th>\n",
       "      <td>{hair,milk,predator}</td>\n",
       "      <td>{type=mammal}</td>\n",
       "    </tr>\n",
       "    <tr>\n",
       "      <th>2</th>\n",
       "      <td>{hair,predator,tail}</td>\n",
       "      <td>{type=mammal}</td>\n",
       "    </tr>\n",
       "    <tr>\n",
       "      <th>3</th>\n",
       "      <td>{fins}</td>\n",
       "      <td>{type=fish}</td>\n",
       "    </tr>\n",
       "  </tbody>\n",
       "</table>\n",
       "</div>"
      ],
      "text/plain": [
       "                    LHS            RHS\n",
       "1  {hair,milk,predator}  {type=mammal}\n",
       "2  {hair,predator,tail}  {type=mammal}\n",
       "3                {fins}    {type=fish}"
      ]
     },
     "execution_count": 85,
     "metadata": {},
     "output_type": "execute_result"
    }
   ],
   "source": [
    "import rpy2.robjects as ro\n",
    "from arulespy.arules import Rules, ItemMatrix\n",
    "\n",
    "trans = Transactions.from_df(pd.read_csv(\"https://mhahsler.github.io/arulespy/examples/Zoo.csv\"))\n",
    "\n",
    "\n",
    "lhs = [\n",
    "    ['hair', 'milk', 'predator'],\n",
    "    ['hair', 'tail', 'predator'],\n",
    "    ['fins']\n",
    "]\n",
    "rhs = [\n",
    "    ['type=mammal'],\n",
    "    ['type=mammal'],\n",
    "    ['type=fish']\n",
    "]\n",
    "\n",
    "r = Rules.new(ItemMatrix.from_list(lhs, itemLabels = trans), \n",
    "              ItemMatrix.from_list(rhs, itemLabels = trans))\n",
    "\n",
    "r.as_df()"
   ]
  },
  {
   "attachments": {},
   "cell_type": "markdown",
   "metadata": {},
   "source": [
    "Next, we add interest measures calculated on the transactions."
   ]
  },
  {
   "cell_type": "code",
   "execution_count": 86,
   "metadata": {},
   "outputs": [
    {
     "name": "stderr",
     "output_type": "stream",
     "text": [
      "R[write to console]: In addition: \n",
      "R[write to console]: Warning message:\n",
      "\n",
      "R[write to console]: Column(s) 13, 17 not logical or factor. Applying default discretization (see '? discretizeDF'). \n",
      "\n"
     ]
    },
    {
     "data": {
      "text/html": [
       "<div>\n",
       "<style scoped>\n",
       "    .dataframe tbody tr th:only-of-type {\n",
       "        vertical-align: middle;\n",
       "    }\n",
       "\n",
       "    .dataframe tbody tr th {\n",
       "        vertical-align: top;\n",
       "    }\n",
       "\n",
       "    .dataframe thead th {\n",
       "        text-align: right;\n",
       "    }\n",
       "</style>\n",
       "<table border=\"1\" class=\"dataframe\">\n",
       "  <thead>\n",
       "    <tr style=\"text-align: right;\">\n",
       "      <th></th>\n",
       "      <th>LHS</th>\n",
       "      <th>RHS</th>\n",
       "      <th>support</th>\n",
       "      <th>confidence</th>\n",
       "      <th>lift</th>\n",
       "    </tr>\n",
       "  </thead>\n",
       "  <tbody>\n",
       "    <tr>\n",
       "      <th>1</th>\n",
       "      <td>{hair,milk,predator}</td>\n",
       "      <td>{type=mammal}</td>\n",
       "      <td>0.20</td>\n",
       "      <td>1.00</td>\n",
       "      <td>2.46</td>\n",
       "    </tr>\n",
       "    <tr>\n",
       "      <th>2</th>\n",
       "      <td>{hair,predator,tail}</td>\n",
       "      <td>{type=mammal}</td>\n",
       "      <td>0.16</td>\n",
       "      <td>1.00</td>\n",
       "      <td>2.46</td>\n",
       "    </tr>\n",
       "    <tr>\n",
       "      <th>3</th>\n",
       "      <td>{fins}</td>\n",
       "      <td>{type=fish}</td>\n",
       "      <td>0.13</td>\n",
       "      <td>0.76</td>\n",
       "      <td>5.94</td>\n",
       "    </tr>\n",
       "  </tbody>\n",
       "</table>\n",
       "</div>"
      ],
      "text/plain": [
       "                    LHS            RHS  support  confidence  lift\n",
       "1  {hair,milk,predator}  {type=mammal}     0.20        1.00  2.46\n",
       "2  {hair,predator,tail}  {type=mammal}     0.16        1.00  2.46\n",
       "3                {fins}    {type=fish}     0.13        0.76  5.94"
      ]
     },
     "execution_count": 86,
     "metadata": {},
     "output_type": "execute_result"
    }
   ],
   "source": [
    "r.addQuality(r.interestMeasure(['support', 'confidence', 'lift'], trans))\n",
    "\n",
    "r.as_df().round(2)"
   ]
  },
  {
   "attachments": {},
   "cell_type": "markdown",
   "metadata": {},
   "source": [
    "## Find Super and Subsets\n",
    "\n",
    "Subset calcualtion returns a large binary matrix. Since this matrix is often sparse, it is represented as a sparse matrix. For example,\n",
    "subset can be used to check which transactions contain the items in the LHS of the rules. The result is a number of transactions\n",
    "by number of rules sparse matrix. "
   ]
  },
  {
   "cell_type": "code",
   "execution_count": 87,
   "metadata": {},
   "outputs": [
    {
     "data": {
      "text/plain": [
       "<101x3 sparse matrix of type '<class 'numpy.int64'>'\n",
       "\twith 53 stored elements in Compressed Sparse Column format>"
      ]
     },
     "execution_count": 87,
     "metadata": {},
     "output_type": "execute_result"
    }
   ],
   "source": [
    "superset = trans.is_superset(r.lhs(), sparse = True)\n",
    "superset\n"
   ]
  },
  {
   "cell_type": "code",
   "execution_count": 88,
   "metadata": {},
   "outputs": [
    {
     "data": {
      "text/plain": [
       "array([[1, 0, 0]])"
      ]
     },
     "execution_count": 88,
     "metadata": {},
     "output_type": "execute_result"
    }
   ],
   "source": [
    "superset[0:1, ].toarray()"
   ]
  },
  {
   "attachments": {},
   "cell_type": "markdown",
   "metadata": {},
   "source": [
    "Show first row as a dense vector. Transaction 1 is a superset of the LHS of the first rule. That is, transaction 1 contains the items in the LHS of Rule 1. "
   ]
  },
  {
   "cell_type": "code",
   "execution_count": 89,
   "metadata": {},
   "outputs": [
    {
     "name": "stdout",
     "output_type": "stream",
     "text": [
      "Transaction 1: [['hair', 'milk', 'predator', 'toothed', 'backbone', 'breathes', 'legs=[4,8]', 'catsize', 'type=mammal']] \n",
      "\n",
      "Rule 1:\n",
      "                     LHS            RHS  support  confidence      lift\n",
      "1  {hair,milk,predator}  {type=mammal}  0.19802         1.0  2.463415\n"
     ]
    }
   ],
   "source": [
    "print(\"Transaction 1:\", trans[0:1].as_list(), \"\\n\")\n",
    "\n",
    "print(\"Rule 1:\\n\", r[0:1].as_df())"
   ]
  },
  {
   "attachments": {},
   "cell_type": "markdown",
   "metadata": {},
   "source": [
    "This information can be used to find the LHS support count for the three rules by summing along the columns."
   ]
  },
  {
   "cell_type": "code",
   "execution_count": 90,
   "metadata": {},
   "outputs": [
    {
     "data": {
      "text/plain": [
       "matrix([[20, 16, 17]])"
      ]
     },
     "execution_count": 90,
     "metadata": {},
     "output_type": "execute_result"
    }
   ],
   "source": [
    "superset.sum(axis = 2)"
   ]
  },
  {
   "attachments": {},
   "cell_type": "markdown",
   "metadata": {},
   "source": [
    "## Online Help for Functions Available via arulespy"
   ]
  },
  {
   "cell_type": "code",
   "execution_count": 91,
   "metadata": {},
   "outputs": [
    {
     "name": "stdout",
     "output_type": "stream",
     "text": [
      "Help on function wrapper in module arulespy.arules:\n",
      "\n",
      "wrapper(*args, **kwargs)\n",
      "    Wrapper around an R function.\n",
      "    \n",
      "    The docstring below is built from the R documentation.\n",
      "    \n",
      "    description\n",
      "    -----------\n",
      "    \n",
      "    \n",
      "     Mine frequent itemsets, association rules or association hyperedges using\n",
      "     the Apriori algorithm.\n",
      "     \n",
      "    \n",
      "    \n",
      "    apriori(\n",
      "        data,\n",
      "        parameter = rinterface.NULL,\n",
      "        appearance = rinterface.NULL,\n",
      "        control = rinterface.NULL,\n",
      "        ___ = (was \"...\"). R ellipsis (any number of parameters),\n",
      "    )\n",
      "    \n",
      "    Args:\n",
      "       data :  object of class transactions. Any data structure which can be\n",
      "      coerced into transactions (e.g., a binary matrix, a\n",
      "      data.frame or a tibble) can also be specified and will be\n",
      "      internally coerced to transactions.\n",
      "    \n",
      "       parameter :  object of class APparameter or named list.  The default\n",
      "      behavior is to mine rules with minimum support of 0.1,\n",
      "      minimum confidence of 0.8, maximum of 10 items (maxlen), and\n",
      "      a maximal time for subset checking of 5 seconds (‘maxtime’).\n",
      "    \n",
      "       appearance :  object of class APappearance or named list.  With this\n",
      "      argument item appearance can be restricted (implements rule\n",
      "      templates).  By default all items can appear unrestricted.\n",
      "    \n",
      "       control :  object of class APcontrol or named list. Controls the\n",
      "      algorithmic performance of the mining algorithm (item\n",
      "      sorting, report progress (verbose), etc.)\n",
      "    \n",
      "       ... :  Additional arguments are for convenience added to the\n",
      "      parameter list.\n",
      "    \n",
      "    details\n",
      "    -------\n",
      "    \n",
      "    \n",
      "     The Apriori algorithm (Agrawal et al, 1993) employs level-wise search for\n",
      "     frequent itemsets. The used C implementation of Apriori by Christian\n",
      "     Borgelt (2003) includes some improvements (e.g., a prefix tree and item sorting).\n",
      "     \n",
      "     Warning about automatic conversion of matrices or data.frames to transactions. \n",
      "     It is preferred to create transactions manually before\n",
      "     calling  apriori()  to have control over item coding. This is especially\n",
      "     important when you are working with multiple datasets or several subsets of\n",
      "     the same dataset. To read about item coding, see  itemCoding .\n",
      "     \n",
      "     If a data.frame is specified as  x , then the data is automatically\n",
      "     converted into transactions by discretizing numeric data using\n",
      "     discretizeDF()  and then coercion to transactions. The discretization\n",
      "     may fail if the data is not well behaved.\n",
      "     \n",
      "     Apriori only creates rules with one item in the RHS (Consequent). \n",
      "     The default value in  APparameter  for  minlen  is 1.\n",
      "     This meains that rules with only one item (i.e., an empty antecedent/LHS)\n",
      "     like\n",
      "     \n",
      "     \\{\\} => \\{beer\\} {} => {beer} \n",
      "     \n",
      "     will be created.  These rules mean that no matter what other items are\n",
      "     involved, the item in the RHS will appear with the probability given by the\n",
      "     rule's confidence (which equals the support).  If you want to avoid these\n",
      "     rules then use the argument  parameter = list(minlen = 2) .\n",
      "     \n",
      "     Notes on run time and memory usage: \n",
      "     If the minimum  support  is\n",
      "     chosen too low for the dataset, then the algorithm will try to create an\n",
      "     extremely large set of itemsets/rules. This will result in very long run\n",
      "     time and eventually the process will run out of memory.  To prevent this,\n",
      "     the default maximal length of itemsets/rules is restricted to 10 items (via\n",
      "     the parameter element  maxlen = 10 ) and the time for checking subsets is\n",
      "     limited to 5 seconds (via  maxtime = 5 ). The output will show if you hit\n",
      "     these limits in the \"checking subsets\" line of the output. The time limit is\n",
      "     only checked when the subset size increases, so it may run significantly\n",
      "     longer than what you specify in maxtime.  Setting  maxtime = 0  disables\n",
      "     the time limit.\n",
      "     \n",
      "     Interrupting execution with  Control-C/Esc  is not recommended.  Memory\n",
      "     cleanup will be prevented resulting in a memory leak. Also, interrupts are\n",
      "     only checked when the subset size increases, so it may take some time till\n",
      "     the execution actually stops.\n",
      "\n"
     ]
    }
   ],
   "source": [
    "help(apriori)"
   ]
  },
  {
   "attachments": {},
   "cell_type": "markdown",
   "metadata": {},
   "source": [
    "## Low-level R arules interface\n",
    "\n",
    "arules functions can also be directly called using\n",
    "`R_arules.<arules R function>()` and `R_arulesViz.<arules R function>()`. The result will be a `rpy2` data type.\n",
    "Transactions, itemsets and rules can manually be converted to Python\n",
    "classes using."
   ]
  },
  {
   "cell_type": "code",
   "execution_count": 92,
   "metadata": {},
   "outputs": [],
   "source": [
    "from arulespy.arules import R_arules, Itemsets, arules2py"
   ]
  },
  {
   "cell_type": "code",
   "execution_count": 93,
   "metadata": {},
   "outputs": [
    {
     "name": "stdout",
     "output_type": "stream",
     "text": [
      "Help on DocumentedSTFunction in module rpy2.robjects.functions:\n",
      "\n",
      "<rpy2.robjects.functions.DocumentedSTFunction ob...fbe9200> [RTYPES.CLOSXP]\n",
      "R classes: ('function',)\n",
      "    Wrapper around an R function.\n",
      "    \n",
      "    The docstring below is built from the R documentation.\n",
      "    \n",
      "    description\n",
      "    -----------\n",
      "    \n",
      "    \n",
      "     Simulate random  transactions  using different methods.\n",
      "     \n",
      "    \n",
      "    \n",
      "    random.patterns(\n",
      "        nItems,\n",
      "        nPats = 2000.0,\n",
      "        method = rinterface.NULL,\n",
      "        lPats = 4.0,\n",
      "        corr = 0.5,\n",
      "        cmean = 0.5,\n",
      "        cvar = 0.1,\n",
      "        iWeight = rinterface.NULL,\n",
      "        verbose = False,\n",
      "    )\n",
      "    \n",
      "    Args:\n",
      "       nItems :  an integer. Number of items to simulate\n",
      "    \n",
      "       nTrans :  an integer. Number of transactions to simulate\n",
      "    \n",
      "       method :  name of the simulation method used (see Details Section).\n",
      "    \n",
      "       ... :  further arguments used for the specific simulation method\n",
      "      (see details).\n",
      "    \n",
      "       verbose :  report progress?\n",
      "    \n",
      "       nPats :  number of patterns (potential maximal frequent itemsets)\n",
      "      used.\n",
      "    \n",
      "       lPats :  average length of patterns.\n",
      "    \n",
      "       corr :  correlation between consecutive patterns.\n",
      "    \n",
      "       cmean :  mean of the corruption level (normal distribution).\n",
      "    \n",
      "       cvar :  variance of the corruption level.\n",
      "    \n",
      "       iWeight :  item selection weights to build patterns.\n",
      "    \n",
      "    details\n",
      "    -------\n",
      "    \n",
      "    \n",
      "     Currently two simulation methods are implemented:\n",
      "     \n",
      "       \"independent\"  (Hahsler et al, 2006): All items\n",
      "     are treated as independent. The transaction size is determined by\n",
      "     rpois(lambda - 1) + 1 , where  lambda  can be specified (defaults to 3).\n",
      "     Note that one subtracted from lambda and added to the size to avoid\n",
      "     empty transactions. The items in the transactions are randomly chosen using\n",
      "     the numeric probability vector  iProb  of length  nItems \n",
      "     (default: 0.01 for each item).\n",
      "       \"agrawal\"  (see Agrawal and Srikant, 1994): This\n",
      "     method creates transactions with correlated items using  random.patters() .\n",
      "     The simulation is a two-stage process. First, a set of  nPats  patterns\n",
      "     (potential maximal frequent itemsets) is generated.  The length of the\n",
      "     patterns is Poisson distributed with mean  lPats  and consecutive\n",
      "     patterns share some items controlled by the correlation parameter\n",
      "     corr .  For later use, for each pattern a pattern weight is generated\n",
      "     by drawing from an exponential distribution with a mean of 1 and a\n",
      "     corruption level is chosen from a normal distribution with mean  cmean \n",
      "     and variance  cvar .\n",
      "     The function returns the patterns as an  itemsets  objects which can be\n",
      "     supplied to  random.transactions()  as the argument  patterns .  If\n",
      "     no argument  patterns  is supplied, the default values given above are\n",
      "     used.\n",
      "     \n",
      "     In the second step, the transactions are generated using the patterns.  The\n",
      "     length the transactions follows a Poisson distribution with mean\n",
      "     lPats . For each transaction, patterns are randomly chosen using the\n",
      "     pattern weights till the transaction length is reached. For each chosen\n",
      "     pattern, the associated corruption level is used to drop some items before\n",
      "     adding the pattern to the transaction.\n",
      "\n"
     ]
    }
   ],
   "source": [
    "help(R_arules.random_patterns)"
   ]
  },
  {
   "cell_type": "code",
   "execution_count": 94,
   "metadata": {},
   "outputs": [
    {
     "data": {
      "text/plain": [
       "<rpy2.robjects.methods.RS4 object at 0x7fe3cfbb3340> [RTYPES.S4SXP]\n",
       "R classes: ('itemsets',)"
      ]
     },
     "execution_count": 94,
     "metadata": {},
     "output_type": "execute_result"
    }
   ],
   "source": [
    "its_r = R_arules.random_patterns(100, 10)\n",
    "its_r"
   ]
  },
  {
   "attachments": {},
   "cell_type": "markdown",
   "metadata": {},
   "source": [
    "Since we directly called a R function, we need to manually wrap the R object as a Python object before we use it in Python."
   ]
  },
  {
   "cell_type": "code",
   "execution_count": 95,
   "metadata": {},
   "outputs": [
    {
     "data": {
      "text/html": [
       "<div>\n",
       "<style scoped>\n",
       "    .dataframe tbody tr th:only-of-type {\n",
       "        vertical-align: middle;\n",
       "    }\n",
       "\n",
       "    .dataframe tbody tr th {\n",
       "        vertical-align: top;\n",
       "    }\n",
       "\n",
       "    .dataframe thead th {\n",
       "        text-align: right;\n",
       "    }\n",
       "</style>\n",
       "<table border=\"1\" class=\"dataframe\">\n",
       "  <thead>\n",
       "    <tr style=\"text-align: right;\">\n",
       "      <th></th>\n",
       "      <th>items</th>\n",
       "      <th>pWeights</th>\n",
       "      <th>pCorrupts</th>\n",
       "    </tr>\n",
       "  </thead>\n",
       "  <tbody>\n",
       "    <tr>\n",
       "      <th>1</th>\n",
       "      <td>{item12,item74,item89}</td>\n",
       "      <td>0.307119</td>\n",
       "      <td>0.401754</td>\n",
       "    </tr>\n",
       "    <tr>\n",
       "      <th>2</th>\n",
       "      <td>{item12,item49,item89}</td>\n",
       "      <td>0.007283</td>\n",
       "      <td>0.064010</td>\n",
       "    </tr>\n",
       "    <tr>\n",
       "      <th>3</th>\n",
       "      <td>{item49,item56,item57}</td>\n",
       "      <td>0.158742</td>\n",
       "      <td>1.000000</td>\n",
       "    </tr>\n",
       "    <tr>\n",
       "      <th>4</th>\n",
       "      <td>{item14,item49,item52,item56,item57,item60,ite...</td>\n",
       "      <td>0.101033</td>\n",
       "      <td>0.422442</td>\n",
       "    </tr>\n",
       "    <tr>\n",
       "      <th>5</th>\n",
       "      <td>{item11,item49,item56,item100}</td>\n",
       "      <td>0.089522</td>\n",
       "      <td>0.511599</td>\n",
       "    </tr>\n",
       "    <tr>\n",
       "      <th>6</th>\n",
       "      <td>{item13,item16,item44,item88,item92,item100}</td>\n",
       "      <td>0.041974</td>\n",
       "      <td>1.000000</td>\n",
       "    </tr>\n",
       "    <tr>\n",
       "      <th>7</th>\n",
       "      <td>{item13,item16,item88,item100}</td>\n",
       "      <td>0.056678</td>\n",
       "      <td>0.303334</td>\n",
       "    </tr>\n",
       "    <tr>\n",
       "      <th>8</th>\n",
       "      <td>{item16,item44,item50,item74,item88}</td>\n",
       "      <td>0.185738</td>\n",
       "      <td>0.280739</td>\n",
       "    </tr>\n",
       "    <tr>\n",
       "      <th>9</th>\n",
       "      <td>{item9,item33,item56,item72,item88,item92,item93}</td>\n",
       "      <td>0.038782</td>\n",
       "      <td>0.095790</td>\n",
       "    </tr>\n",
       "    <tr>\n",
       "      <th>10</th>\n",
       "      <td>{item1,item9,item11,item13,item88}</td>\n",
       "      <td>0.013128</td>\n",
       "      <td>0.163308</td>\n",
       "    </tr>\n",
       "  </tbody>\n",
       "</table>\n",
       "</div>"
      ],
      "text/plain": [
       "                                                items  pWeights  pCorrupts\n",
       "1                              {item12,item74,item89}  0.307119   0.401754\n",
       "2                              {item12,item49,item89}  0.007283   0.064010\n",
       "3                              {item49,item56,item57}  0.158742   1.000000\n",
       "4   {item14,item49,item52,item56,item57,item60,ite...  0.101033   0.422442\n",
       "5                      {item11,item49,item56,item100}  0.089522   0.511599\n",
       "6        {item13,item16,item44,item88,item92,item100}  0.041974   1.000000\n",
       "7                      {item13,item16,item88,item100}  0.056678   0.303334\n",
       "8                {item16,item44,item50,item74,item88}  0.185738   0.280739\n",
       "9   {item9,item33,item56,item72,item88,item92,item93}  0.038782   0.095790\n",
       "10                 {item1,item9,item11,item13,item88}  0.013128   0.163308"
      ]
     },
     "execution_count": 95,
     "metadata": {},
     "output_type": "execute_result"
    }
   ],
   "source": [
    "its_p = Itemsets(its_r)\n",
    "its_p.as_df()"
   ]
  },
  {
   "cell_type": "code",
   "execution_count": 96,
   "metadata": {},
   "outputs": [
    {
     "name": "stdout",
     "output_type": "stream",
     "text": [
      "transactions in sparse format with\n",
      " 1000 transactions (rows) and\n",
      " 10 items (columns)\n",
      "\n"
     ]
    }
   ],
   "source": [
    "trans = arules2py(R_arules.random_transactions(10, 1000))\n",
    "\n",
    "print(trans)\n",
    "\n"
   ]
  },
  {
   "attachments": {},
   "cell_type": "markdown",
   "metadata": {},
   "source": [
    "Access directly the sparse representation."
   ]
  },
  {
   "cell_type": "code",
   "execution_count": 97,
   "metadata": {},
   "outputs": [
    {
     "data": {
      "text/plain": [
       "<10x1000 sparse matrix of type '<class 'numpy.int64'>'\n",
       "\twith 3031 stored elements in Compressed Sparse Column format>"
      ]
     },
     "execution_count": 97,
     "metadata": {},
     "output_type": "execute_result"
    }
   ],
   "source": [
    "from scipy.sparse import csc_matrix\n",
    "\n",
    "trans.items().as_csc_matrix()"
   ]
  }
 ],
 "metadata": {
  "kernelspec": {
   "display_name": "Python 3",
   "language": "python",
   "name": "python3"
  },
  "language_info": {
   "codemirror_mode": {
    "name": "ipython",
    "version": 3
   },
   "file_extension": ".py",
   "mimetype": "text/x-python",
   "name": "python",
   "nbconvert_exporter": "python",
   "pygments_lexer": "ipython3",
   "version": "3.10.6"
  }
 },
 "nbformat": 4,
 "nbformat_minor": 4
}
